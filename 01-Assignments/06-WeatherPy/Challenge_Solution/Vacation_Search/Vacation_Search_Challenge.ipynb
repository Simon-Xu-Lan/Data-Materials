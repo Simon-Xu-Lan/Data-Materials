version https://git-lfs.github.com/spec/v1
oid sha256:80a3e2b3e3af1b5f1b76474e47d91c4d306fe4c59f4b200e6cb7141a2a045ba6
size 44710
