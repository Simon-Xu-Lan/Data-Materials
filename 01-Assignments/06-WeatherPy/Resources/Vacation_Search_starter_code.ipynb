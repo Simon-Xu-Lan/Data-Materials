version https://git-lfs.github.com/spec/v1
oid sha256:c0bf96436f3a2a871c505a19129ca41c58942678d26b79d3fb2be30635cd2ef3
size 5382
