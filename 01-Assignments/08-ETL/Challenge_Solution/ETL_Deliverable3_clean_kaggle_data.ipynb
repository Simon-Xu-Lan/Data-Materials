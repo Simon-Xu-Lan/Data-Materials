version https://git-lfs.github.com/spec/v1
oid sha256:9bfa901e7b86ec7ac29b7e04ead829f8bf15fe36b90eb9f556d294c04831a9cf
size 47871
