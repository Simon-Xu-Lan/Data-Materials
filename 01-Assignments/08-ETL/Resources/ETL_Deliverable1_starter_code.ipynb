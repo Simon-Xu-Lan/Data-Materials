version https://git-lfs.github.com/spec/v1
oid sha256:609f2bd44054b2a3dc0ac3fc21ce44151305726dea6bf7b8b231e28c0a7ac778
size 2959
