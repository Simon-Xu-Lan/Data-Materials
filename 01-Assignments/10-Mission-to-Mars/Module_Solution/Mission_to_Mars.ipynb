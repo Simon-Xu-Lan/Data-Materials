version https://git-lfs.github.com/spec/v1
oid sha256:0977cd8059e64d895dea1c9df5d2c77cb46eceb31a191c7722291f9dd4e91fa1
size 31859
