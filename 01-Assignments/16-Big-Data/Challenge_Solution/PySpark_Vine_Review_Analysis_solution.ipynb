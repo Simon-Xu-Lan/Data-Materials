version https://git-lfs.github.com/spec/v1
oid sha256:96fd344419b1acef0fbc3619c0aa91980a7f46192a3ab243f1221a7ad90bb00d
size 15232
