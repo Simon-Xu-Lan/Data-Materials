version https://git-lfs.github.com/spec/v1
oid sha256:e561c8af790368c7fd17f43400913b68f87a3970671a0731cc4295f05b0d4e02
size 42218
