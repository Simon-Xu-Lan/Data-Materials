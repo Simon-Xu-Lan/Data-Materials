version https://git-lfs.github.com/spec/v1
oid sha256:fabb9460fdb85e2253f6356693b93148fec760c15fb4eec427b1c1b55cb42776
size 11990
