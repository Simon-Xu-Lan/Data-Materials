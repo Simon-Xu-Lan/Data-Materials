version https://git-lfs.github.com/spec/v1
oid sha256:4ec8a988258806691ad9e81ac2080cb0d6cff53498543d9d687df8b579c293e3
size 6467
