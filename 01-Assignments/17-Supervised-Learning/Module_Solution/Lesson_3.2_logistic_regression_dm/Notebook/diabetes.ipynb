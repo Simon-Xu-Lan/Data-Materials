version https://git-lfs.github.com/spec/v1
oid sha256:e2550df8bdd44c51d13dbb5c62907f2a284f22b4b45187ec91528435d2078c5c
size 12366
