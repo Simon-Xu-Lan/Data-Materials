version https://git-lfs.github.com/spec/v1
oid sha256:a93adfefb710fcaf61ffc9efb2fb25cebc6200ab5887691ebc0c0a6ec58090b5
size 13471
