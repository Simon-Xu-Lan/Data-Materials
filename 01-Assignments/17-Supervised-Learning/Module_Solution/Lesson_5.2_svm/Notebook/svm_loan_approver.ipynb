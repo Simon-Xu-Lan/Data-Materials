version https://git-lfs.github.com/spec/v1
oid sha256:bdd3909016b64cf1b1aef0a2d9585ec6267330622414684c79822af2d9bcb39f
size 11168
