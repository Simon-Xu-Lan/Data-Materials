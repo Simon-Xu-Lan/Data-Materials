version https://git-lfs.github.com/spec/v1
oid sha256:dfc71140398a73cc5102b30976f3f21b3f53bbb6ed3ea3da9924f95ba453d913
size 21806
