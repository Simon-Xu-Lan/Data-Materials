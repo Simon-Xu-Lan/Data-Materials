version https://git-lfs.github.com/spec/v1
oid sha256:d883d702e0c018764111d510c48ee277e7a902ea426b1f6696326e6663005e3c
size 6889483
