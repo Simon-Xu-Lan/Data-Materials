version https://git-lfs.github.com/spec/v1
oid sha256:c2b8c1a2b8f6daee36de43e9d54585843d785773f0517c7f6ac5bf92c66dcfa5
size 2510184
