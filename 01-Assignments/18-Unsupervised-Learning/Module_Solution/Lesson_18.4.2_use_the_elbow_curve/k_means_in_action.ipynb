version https://git-lfs.github.com/spec/v1
oid sha256:7e6ef4e7b9dd092ebf54f537582d827b5988e12c292277c73f703532ff82ea97
size 5996724
