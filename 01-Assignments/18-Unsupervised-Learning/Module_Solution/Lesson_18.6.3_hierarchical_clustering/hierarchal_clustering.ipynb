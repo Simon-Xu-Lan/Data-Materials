version https://git-lfs.github.com/spec/v1
oid sha256:95c9b6a9d2c1116d8f056f9866634dd04a48d0031198cd6a6ac3223e3866b002
size 2676198
