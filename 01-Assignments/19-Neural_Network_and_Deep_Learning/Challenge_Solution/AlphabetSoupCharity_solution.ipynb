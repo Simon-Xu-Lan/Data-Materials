version https://git-lfs.github.com/spec/v1
oid sha256:c6c0f32e9f39c7e0c341da064cbacea1bb4e8172d9fdca7c61dae6f2a64ddea5
size 89817
