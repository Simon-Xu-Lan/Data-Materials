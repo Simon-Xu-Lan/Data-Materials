version https://git-lfs.github.com/spec/v1
oid sha256:0c187b00d7bb90cab9c356a189fd93758a90086e5865a419040af9931f79e03c
size 34617
