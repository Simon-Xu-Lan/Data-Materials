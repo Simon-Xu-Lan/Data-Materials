version https://git-lfs.github.com/spec/v1
oid sha256:465b3b39ef8e482afcc12c425b3f40a0ea73598650d3378dd6831aca165729cd
size 66959
