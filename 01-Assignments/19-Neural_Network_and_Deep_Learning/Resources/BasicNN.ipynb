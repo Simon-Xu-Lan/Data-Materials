version https://git-lfs.github.com/spec/v1
oid sha256:59f4e9f7e4f132bb37fafc3de017165769190111a483a51b977a69b774980cfe
size 641257
