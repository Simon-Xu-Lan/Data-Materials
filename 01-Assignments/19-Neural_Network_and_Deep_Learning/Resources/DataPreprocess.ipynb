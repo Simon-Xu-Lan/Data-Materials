version https://git-lfs.github.com/spec/v1
oid sha256:ab0aa7dc2fa7782c1ac8ffe90ada1704f797da1a1b5f0711b2c4b25bae0ea368
size 99842
