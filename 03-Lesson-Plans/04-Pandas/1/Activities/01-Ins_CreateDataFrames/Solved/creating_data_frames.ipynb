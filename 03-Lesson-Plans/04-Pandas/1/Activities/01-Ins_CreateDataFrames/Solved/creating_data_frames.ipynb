version https://git-lfs.github.com/spec/v1
oid sha256:ee89ef6cbdbe3cb263e803fa372c6c6fadbd4005e0d04bfdb94c14aa01ddb09a
size 9770
