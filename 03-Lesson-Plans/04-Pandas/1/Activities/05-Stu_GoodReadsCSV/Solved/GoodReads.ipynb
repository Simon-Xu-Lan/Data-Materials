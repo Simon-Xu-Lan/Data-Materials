version https://git-lfs.github.com/spec/v1
oid sha256:1a644f4e992d0395616f8b43ab9684bfb3957ad01a1375d4ec8f31fb55f099db
size 23757
