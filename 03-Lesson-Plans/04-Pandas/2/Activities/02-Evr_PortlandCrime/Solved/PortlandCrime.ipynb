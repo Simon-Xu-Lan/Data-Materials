version https://git-lfs.github.com/spec/v1
oid sha256:aa39851266c386345e5876db9615473ef5d8355a8bda592a134dadb9f1c4637e
size 37709
