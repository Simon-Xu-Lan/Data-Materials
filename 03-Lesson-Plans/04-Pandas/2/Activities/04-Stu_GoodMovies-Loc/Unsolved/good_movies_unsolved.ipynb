version https://git-lfs.github.com/spec/v1
oid sha256:de4c4026ff14e7373ff44494e7f36c140b2c8d29b93c5e6ed82d78cb12a4a6a7
size 19003
