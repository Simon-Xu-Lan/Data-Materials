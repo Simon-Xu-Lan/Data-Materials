version https://git-lfs.github.com/spec/v1
oid sha256:37a3e13785f2453daac0a89d1b28774cf0db2a47a0fa69c84ea847a3044979a4
size 31233
