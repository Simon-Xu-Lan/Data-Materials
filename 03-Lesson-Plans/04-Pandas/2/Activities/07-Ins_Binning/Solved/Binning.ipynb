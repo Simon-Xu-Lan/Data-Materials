version https://git-lfs.github.com/spec/v1
oid sha256:086b00dff4d4eac91b9389c90ebba52bc0e753924b912fe6de3db76ff6e4353e
size 12519
