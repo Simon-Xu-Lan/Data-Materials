version https://git-lfs.github.com/spec/v1
oid sha256:e30669fef9f2fe4fe95a0fb12771128b6014a98a0a7a8b35788c63a6ea76d7b1
size 17735
