version https://git-lfs.github.com/spec/v1
oid sha256:004c6c3897c01adf00012498318f4667cde6c42888ecc392c2e8805a36a1b1a6
size 31236
