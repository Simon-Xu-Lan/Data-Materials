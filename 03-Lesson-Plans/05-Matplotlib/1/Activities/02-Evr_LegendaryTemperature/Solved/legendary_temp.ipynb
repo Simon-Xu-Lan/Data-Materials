version https://git-lfs.github.com/spec/v1
oid sha256:5796c849aa0cf1eb7192b68924b7fd68068a22ff022c97fe6d8ec82eaa082601
size 163205
