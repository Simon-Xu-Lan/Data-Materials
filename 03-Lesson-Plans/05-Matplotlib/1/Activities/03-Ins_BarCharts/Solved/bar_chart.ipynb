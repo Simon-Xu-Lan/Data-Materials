version https://git-lfs.github.com/spec/v1
oid sha256:ae634fac8ab401d7b25af4a4db5daef13bdcb41dea67eaaabf7e82c8541c725f
size 172006
