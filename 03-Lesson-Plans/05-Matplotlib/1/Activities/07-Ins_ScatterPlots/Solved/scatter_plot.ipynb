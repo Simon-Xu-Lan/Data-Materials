version https://git-lfs.github.com/spec/v1
oid sha256:c2ee86df665e7809fa31e47d0641c5fc78fe0ae9cdab4d40a2b439232b9dc320
size 222011
