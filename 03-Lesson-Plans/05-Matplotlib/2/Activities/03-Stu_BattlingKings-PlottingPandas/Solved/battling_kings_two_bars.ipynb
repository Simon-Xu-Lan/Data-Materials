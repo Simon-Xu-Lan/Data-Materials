version https://git-lfs.github.com/spec/v1
oid sha256:f64fb4bd3e56c606802f075d48d011041e9e528db59da48c7c2031e89e051bd1
size 257441
