version https://git-lfs.github.com/spec/v1
oid sha256:b41a1ef09e0b6fbf55141aafc09d823f12819d9dc236cd2a3dbd4588967571c7
size 242897
