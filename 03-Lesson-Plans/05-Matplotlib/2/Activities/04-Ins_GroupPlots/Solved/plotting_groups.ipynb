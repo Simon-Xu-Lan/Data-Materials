version https://git-lfs.github.com/spec/v1
oid sha256:064e8f4c4df16150ecb280b04a247c62ba42feaa92ab60b96bf64377666e8c9a
size 198460
