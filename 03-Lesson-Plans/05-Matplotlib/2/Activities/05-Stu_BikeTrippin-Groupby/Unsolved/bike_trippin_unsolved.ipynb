version https://git-lfs.github.com/spec/v1
oid sha256:da97ab55194e0004d7b4b01a3c7b5b51f532b8f9de7bc71d4e246ab62852a6fc
size 303977
