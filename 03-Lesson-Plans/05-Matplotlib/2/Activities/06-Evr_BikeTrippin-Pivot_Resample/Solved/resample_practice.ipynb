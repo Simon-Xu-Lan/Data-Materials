version https://git-lfs.github.com/spec/v1
oid sha256:95107bfdd3ff6975a656f9bd803bd0e7e8169c350e7c80fd966e7c2f04346dbd
size 4638
