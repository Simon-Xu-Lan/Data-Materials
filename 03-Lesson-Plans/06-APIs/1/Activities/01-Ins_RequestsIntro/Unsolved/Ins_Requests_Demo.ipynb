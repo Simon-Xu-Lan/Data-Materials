version https://git-lfs.github.com/spec/v1
oid sha256:fb5b294cba2fa7b8d41c21b7ad79480b7099f84e0af478c8476415ceae42b75c
size 2021
