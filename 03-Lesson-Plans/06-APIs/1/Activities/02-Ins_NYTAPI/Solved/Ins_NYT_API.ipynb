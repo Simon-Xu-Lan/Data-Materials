version https://git-lfs.github.com/spec/v1
oid sha256:a336aef57e880241b291c19ffdaaaef8ac0738584fb7e162eb10bb1a88ec7add
size 464092
