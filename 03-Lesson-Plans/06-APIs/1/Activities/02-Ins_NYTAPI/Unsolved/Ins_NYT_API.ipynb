version https://git-lfs.github.com/spec/v1
oid sha256:c1d30d2ae051631c922f4b052abf42c659b1103204b6ec4ef0010a83adda24ca
size 2305
