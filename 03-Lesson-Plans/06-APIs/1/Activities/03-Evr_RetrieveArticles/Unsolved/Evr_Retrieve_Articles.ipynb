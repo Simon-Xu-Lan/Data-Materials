version https://git-lfs.github.com/spec/v1
oid sha256:3e1c95c01bab967c4b1a1df4d57457bb39a6ca7fea6411eb3e989b0fae4ed9b1
size 1857
