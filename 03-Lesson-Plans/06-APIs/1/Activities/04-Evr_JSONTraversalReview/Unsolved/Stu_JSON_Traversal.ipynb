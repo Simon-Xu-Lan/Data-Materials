version https://git-lfs.github.com/spec/v1
oid sha256:f42fa2c8912931a16ae6d16df4778e3347dcde490f4fc3ec2c6828649ea194b9
size 861
