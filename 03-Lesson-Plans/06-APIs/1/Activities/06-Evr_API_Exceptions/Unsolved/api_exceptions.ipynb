version https://git-lfs.github.com/spec/v1
oid sha256:486b50433b4715c0e52bb9806d3ce793a069f9eea0d7f5256ce29e6a1105ab2e
size 2137
