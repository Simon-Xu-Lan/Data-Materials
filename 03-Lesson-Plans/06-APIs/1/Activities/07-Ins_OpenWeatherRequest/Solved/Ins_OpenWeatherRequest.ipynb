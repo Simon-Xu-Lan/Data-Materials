version https://git-lfs.github.com/spec/v1
oid sha256:9e83fd2f41105337d10aae3ebd312e94820496b3bf4b5335ea1167b8ee44cca1
size 2754
