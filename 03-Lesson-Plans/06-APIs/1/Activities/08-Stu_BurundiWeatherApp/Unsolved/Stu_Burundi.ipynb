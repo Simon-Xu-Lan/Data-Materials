version https://git-lfs.github.com/spec/v1
oid sha256:3052cffeee3df8eb1933c0ef733353ae38bd57e5baeb6abf2ec0825b399c1b85
size 1853
