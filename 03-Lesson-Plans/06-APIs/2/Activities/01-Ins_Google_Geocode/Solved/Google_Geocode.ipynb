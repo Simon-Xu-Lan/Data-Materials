version https://git-lfs.github.com/spec/v1
oid sha256:f2531bf9512c8ecaadf8207fdf4edaf48d4484ab45ab028738d78fa7b3726c7b
size 6472
