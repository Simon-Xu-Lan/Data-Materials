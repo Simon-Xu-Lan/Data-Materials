version https://git-lfs.github.com/spec/v1
oid sha256:8c784d28f527c6d83eabf9e6561419ecc014383352a857249f802e602ad7d26b
size 25595
