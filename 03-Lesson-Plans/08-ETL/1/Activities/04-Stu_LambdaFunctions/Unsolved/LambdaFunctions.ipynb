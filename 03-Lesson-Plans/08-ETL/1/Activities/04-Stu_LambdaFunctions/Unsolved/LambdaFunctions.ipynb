version https://git-lfs.github.com/spec/v1
oid sha256:bbae2eb47acd4e2f1374949b76109afb9b561208aa217a88a613140e5a1861e6
size 131420
