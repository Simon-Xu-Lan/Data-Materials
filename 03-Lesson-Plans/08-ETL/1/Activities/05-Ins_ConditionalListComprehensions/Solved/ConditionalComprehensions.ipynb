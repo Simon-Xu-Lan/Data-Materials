version https://git-lfs.github.com/spec/v1
oid sha256:4febe1fce639725854d836b107b25b09d4c1e1583f644d291b76dcba517cdbc2
size 6628
