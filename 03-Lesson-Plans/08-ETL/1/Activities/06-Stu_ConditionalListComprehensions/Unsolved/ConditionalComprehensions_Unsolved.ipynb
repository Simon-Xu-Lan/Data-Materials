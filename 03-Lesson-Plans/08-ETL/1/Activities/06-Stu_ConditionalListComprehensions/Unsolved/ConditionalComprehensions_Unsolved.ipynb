version https://git-lfs.github.com/spec/v1
oid sha256:bcc50d29ebdd5ef52bc59257c506e9b38d2c8d59a2ef073c9c7c394721e568e7
size 5403
