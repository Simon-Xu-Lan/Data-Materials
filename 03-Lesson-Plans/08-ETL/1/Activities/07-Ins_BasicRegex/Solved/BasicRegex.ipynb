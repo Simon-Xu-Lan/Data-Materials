version https://git-lfs.github.com/spec/v1
oid sha256:6c9f3a2114b964128fb4f204daa106a8ca838ce42571fa785ffae4f7253f18c2
size 27860
