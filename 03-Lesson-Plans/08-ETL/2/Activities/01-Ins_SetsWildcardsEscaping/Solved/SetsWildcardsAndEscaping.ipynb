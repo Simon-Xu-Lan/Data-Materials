version https://git-lfs.github.com/spec/v1
oid sha256:6068a1192a60293e2e486b8a0eb86a1f594cd08504339768c372c0b70fd61b74
size 12196
