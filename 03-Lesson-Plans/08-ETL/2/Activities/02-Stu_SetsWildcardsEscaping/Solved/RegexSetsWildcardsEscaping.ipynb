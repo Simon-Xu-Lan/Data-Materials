version https://git-lfs.github.com/spec/v1
oid sha256:51b02475e61a0d1468e141eb324cbca68108cdaf98d40b05ebe8ddddeac63e2e
size 35108
