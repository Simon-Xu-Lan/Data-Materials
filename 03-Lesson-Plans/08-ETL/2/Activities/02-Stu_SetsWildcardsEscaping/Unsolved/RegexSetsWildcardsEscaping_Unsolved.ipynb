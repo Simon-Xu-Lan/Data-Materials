version https://git-lfs.github.com/spec/v1
oid sha256:570a72841056ffbcbc870a00631281115cf1d8e9d7440e30f7182eb706156084
size 35147
