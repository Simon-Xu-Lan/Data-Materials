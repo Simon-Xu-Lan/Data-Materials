version https://git-lfs.github.com/spec/v1
oid sha256:c185cea3a143ecee7d4a8c14abb74a795ebbeebfb5b5347d007d88ac7dc99806
size 14844
