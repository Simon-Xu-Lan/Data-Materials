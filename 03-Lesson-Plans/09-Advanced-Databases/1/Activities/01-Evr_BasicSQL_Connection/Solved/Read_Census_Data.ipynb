version https://git-lfs.github.com/spec/v1
oid sha256:f0debd9d04d7d2d52d4bf3d4908d146dcde604e5573724325f370b6c57844b72
size 303639
