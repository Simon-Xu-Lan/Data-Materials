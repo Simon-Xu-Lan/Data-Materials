version https://git-lfs.github.com/spec/v1
oid sha256:ff3550fdabd62d3b93165f67f37769abec509bd5ac150417170ed06d28d3b80d
size 302633
