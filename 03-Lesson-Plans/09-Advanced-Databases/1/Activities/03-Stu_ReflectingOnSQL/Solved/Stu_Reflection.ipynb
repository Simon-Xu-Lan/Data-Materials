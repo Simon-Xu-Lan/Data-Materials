version https://git-lfs.github.com/spec/v1
oid sha256:da56b8083c780bac9421c2916294a463862c54c6b1c2a93d7049244734337118
size 5570
