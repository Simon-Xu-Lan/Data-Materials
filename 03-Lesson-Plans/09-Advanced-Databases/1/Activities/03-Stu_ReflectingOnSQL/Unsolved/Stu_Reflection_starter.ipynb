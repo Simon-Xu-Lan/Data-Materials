version https://git-lfs.github.com/spec/v1
oid sha256:26a9e0c43ff72e60b0cbc233540a73309f5841483841da9d2c2d891e04d64333
size 5259
