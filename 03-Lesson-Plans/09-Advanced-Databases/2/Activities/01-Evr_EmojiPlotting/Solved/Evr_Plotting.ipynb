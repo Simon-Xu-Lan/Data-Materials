version https://git-lfs.github.com/spec/v1
oid sha256:f62a7279e87f1b81f1c25c0d0da9178dcf2a79635560721d55bb13095ebbbc15
size 41924
