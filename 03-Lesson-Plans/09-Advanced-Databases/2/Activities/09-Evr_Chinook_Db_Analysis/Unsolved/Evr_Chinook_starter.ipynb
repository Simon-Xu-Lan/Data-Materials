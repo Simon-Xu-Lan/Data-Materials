version https://git-lfs.github.com/spec/v1
oid sha256:0ff5d696129900c37b1ff4b1fa4fe4e4fcf368ad85bc67de7d1b9b28ad9e1d40
size 6725
