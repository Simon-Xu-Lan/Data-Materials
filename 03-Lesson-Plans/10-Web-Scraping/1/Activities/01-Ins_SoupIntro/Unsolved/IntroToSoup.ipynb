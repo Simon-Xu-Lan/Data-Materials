version https://git-lfs.github.com/spec/v1
oid sha256:c3cc23db340ac76a57238d29e35873291101b64fc5e644504743e5b1047b7ed7
size 1745
