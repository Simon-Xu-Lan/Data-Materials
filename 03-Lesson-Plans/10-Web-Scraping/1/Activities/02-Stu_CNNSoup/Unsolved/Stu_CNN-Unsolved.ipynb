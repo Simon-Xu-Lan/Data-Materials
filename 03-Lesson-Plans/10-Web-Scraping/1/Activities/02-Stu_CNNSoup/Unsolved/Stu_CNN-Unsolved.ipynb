version https://git-lfs.github.com/spec/v1
oid sha256:45abad3c0f8b787c76b350102ff789c47188c5d379ad547a594e01c9bf50f29a
size 2408
