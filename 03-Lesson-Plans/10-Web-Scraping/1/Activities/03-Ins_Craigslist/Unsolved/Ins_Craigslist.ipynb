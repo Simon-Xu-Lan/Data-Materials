version https://git-lfs.github.com/spec/v1
oid sha256:ce75c3e510d0e7ce68a68dc0c3b0d0f4c0d970832c5d9ec943a09031e828fef1
size 1535
