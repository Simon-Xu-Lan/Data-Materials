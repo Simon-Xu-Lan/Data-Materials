version https://git-lfs.github.com/spec/v1
oid sha256:7a1ab00fa88b723d3861f52c1ac62a852a0452fff3f545cb0889f6e4b4493b81
size 24583
