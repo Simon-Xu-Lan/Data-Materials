version https://git-lfs.github.com/spec/v1
oid sha256:4a2792ce06f06b6f033940ebd535f4214c36ddcf0fd0f017b49ef75a2db924a5
size 1793
