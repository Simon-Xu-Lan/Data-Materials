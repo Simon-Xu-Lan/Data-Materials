version https://git-lfs.github.com/spec/v1
oid sha256:913966ab44e449724bbc3bc4330036ed6cc3d9f95bdc01674dc2ed98a1dd3a4d
size 4678
