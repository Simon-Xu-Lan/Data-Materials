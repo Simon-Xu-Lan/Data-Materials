version https://git-lfs.github.com/spec/v1
oid sha256:c378d25fe38a477288ae81145f0039cad764a5ee14e3316183316a7cf0cb4c67
size 59477
