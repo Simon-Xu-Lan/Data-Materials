version https://git-lfs.github.com/spec/v1
oid sha256:54a888381c8b13fdcc3dfa1ad88699c516ab3edf187ce38ff254a7e5f941be6a
size 45391
