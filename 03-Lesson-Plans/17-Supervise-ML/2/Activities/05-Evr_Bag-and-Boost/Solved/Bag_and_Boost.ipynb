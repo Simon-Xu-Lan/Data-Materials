version https://git-lfs.github.com/spec/v1
oid sha256:7eb7753117593bd8aed9144a6a2621246a4949ae276862df525355192ef7aa4b
size 10017
