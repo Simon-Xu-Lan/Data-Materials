version https://git-lfs.github.com/spec/v1
oid sha256:5413d3e8fa08040e728bc2aa8b10592b22373ed6997598cf189f8b98cf119e6c
size 70766
