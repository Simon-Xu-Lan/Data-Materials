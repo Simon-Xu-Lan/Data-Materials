version https://git-lfs.github.com/spec/v1
oid sha256:e0c9d146a29e13d7593c2dcbfdd308456e7d499e7ebf32c418e13d21bffdb021
size 52041
