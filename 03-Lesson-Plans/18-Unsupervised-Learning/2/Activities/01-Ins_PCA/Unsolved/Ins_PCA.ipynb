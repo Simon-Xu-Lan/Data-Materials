version https://git-lfs.github.com/spec/v1
oid sha256:1136d6ec16ea0aec9fd21f2aef7428be6d694412756ca291d9acf48a3b66811e
size 56858
