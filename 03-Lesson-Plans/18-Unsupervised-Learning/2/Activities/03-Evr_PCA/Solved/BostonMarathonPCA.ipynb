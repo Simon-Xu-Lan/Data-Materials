version https://git-lfs.github.com/spec/v1
oid sha256:69aff84425c89928f985693072f337feb71f81f466693b149aedf75cb7d8a802
size 4821001
