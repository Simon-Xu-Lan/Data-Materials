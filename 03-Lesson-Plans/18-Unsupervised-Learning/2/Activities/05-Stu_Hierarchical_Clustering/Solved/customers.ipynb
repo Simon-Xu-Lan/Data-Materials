version https://git-lfs.github.com/spec/v1
oid sha256:8167d75afdaa74f4fe52b7c9aa5946f6f188a6ecdd4370cb8f2645b1dde14e8c
size 142446
