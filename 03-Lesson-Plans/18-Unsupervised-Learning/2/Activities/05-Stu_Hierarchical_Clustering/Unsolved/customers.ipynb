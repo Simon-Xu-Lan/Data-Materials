version https://git-lfs.github.com/spec/v1
oid sha256:1b438d234ded9980625d6b65fde6f567391610bd408d6732b2f57f448ff1cc64
size 8727
