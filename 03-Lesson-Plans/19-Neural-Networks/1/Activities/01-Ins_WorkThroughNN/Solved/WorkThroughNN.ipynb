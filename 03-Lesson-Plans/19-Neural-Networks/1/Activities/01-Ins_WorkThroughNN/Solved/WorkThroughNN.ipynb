version https://git-lfs.github.com/spec/v1
oid sha256:956bdc6d42055cb8f1e3093673923a62ba26d22bc09ae7df1bed5602f7e91e8a
size 67965
