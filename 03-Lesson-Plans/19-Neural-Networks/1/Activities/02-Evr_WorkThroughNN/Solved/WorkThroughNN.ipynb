version https://git-lfs.github.com/spec/v1
oid sha256:b049073f404db1f56956ca836d57343b6aa280e1bdd8f1f2e7ec12df340a0955
size 65325
