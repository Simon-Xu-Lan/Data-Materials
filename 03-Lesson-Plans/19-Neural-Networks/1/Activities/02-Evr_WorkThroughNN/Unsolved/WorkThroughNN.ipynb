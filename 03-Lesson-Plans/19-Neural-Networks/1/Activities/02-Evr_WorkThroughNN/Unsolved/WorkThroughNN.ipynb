version https://git-lfs.github.com/spec/v1
oid sha256:aaa9f0e940433ffb4578d1e68977caa60ce25654246b41df6f52d3dea4fda89c
size 65836
