version https://git-lfs.github.com/spec/v1
oid sha256:8e389bc48a0a16051b33bfa141f7711ce1a123ac4ea72960be8c8d76489ad747
size 65641
