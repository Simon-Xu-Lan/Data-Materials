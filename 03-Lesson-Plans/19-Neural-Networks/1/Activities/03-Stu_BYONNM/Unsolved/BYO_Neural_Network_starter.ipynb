version https://git-lfs.github.com/spec/v1
oid sha256:2dacf010bdcec0b76f677aeafd5243ac32d72712d784097f8f479cb0ddb906c1
size 3505
