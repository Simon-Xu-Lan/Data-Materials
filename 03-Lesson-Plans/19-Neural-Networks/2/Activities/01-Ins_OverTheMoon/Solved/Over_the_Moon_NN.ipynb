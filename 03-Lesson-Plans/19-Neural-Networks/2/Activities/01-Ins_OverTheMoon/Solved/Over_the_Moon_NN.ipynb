version https://git-lfs.github.com/spec/v1
oid sha256:d0615d7580e2608a97b89566c6312bdf965e7988a6e023a7ce4555832ce931c5
size 75553
