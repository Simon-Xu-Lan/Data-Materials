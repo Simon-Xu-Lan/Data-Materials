version https://git-lfs.github.com/spec/v1
oid sha256:7bdad9b33f88625141cf828b65de9844311a6f4fc8978ace9c9ce448477c49d1
size 30157
