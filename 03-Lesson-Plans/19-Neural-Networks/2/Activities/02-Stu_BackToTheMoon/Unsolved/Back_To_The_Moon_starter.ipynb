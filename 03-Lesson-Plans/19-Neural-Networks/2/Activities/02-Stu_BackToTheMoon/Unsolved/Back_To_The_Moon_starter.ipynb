version https://git-lfs.github.com/spec/v1
oid sha256:db54b4186b01084af1be978bd3f7f60e2310a9f8db3f8ba8767164f787e16486
size 2404
