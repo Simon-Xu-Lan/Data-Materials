version https://git-lfs.github.com/spec/v1
oid sha256:9172d5f832fed4708ac0f76c2eff0a9eaee9d15ff900c5b81742605390da6ef4
size 11931
