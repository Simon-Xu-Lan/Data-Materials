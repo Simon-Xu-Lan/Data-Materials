version https://git-lfs.github.com/spec/v1
oid sha256:9db0350d3a048863bad4da00ad248ed9fc9ba4e327d4e119dd2afe71d1df0861
size 413780
