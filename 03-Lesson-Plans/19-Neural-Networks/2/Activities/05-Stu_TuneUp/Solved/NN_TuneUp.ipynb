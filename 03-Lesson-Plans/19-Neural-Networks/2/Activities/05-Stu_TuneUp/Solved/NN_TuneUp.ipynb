version https://git-lfs.github.com/spec/v1
oid sha256:231786b36836a23e659999c95c6b5c475ab787bb9efdc7a9f27f685696572172
size 65057
