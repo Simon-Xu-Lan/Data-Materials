version https://git-lfs.github.com/spec/v1
oid sha256:8895a6a2098e92d89f1f0f09ffb66e1ec1d6f241b8959e3e98e15fb96b0d11ab
size 3534
