version https://git-lfs.github.com/spec/v1
oid sha256:6933855427991d130af32a2698f15f8bc63a414516ea6947f72d4afa1b80dae3
size 18961
