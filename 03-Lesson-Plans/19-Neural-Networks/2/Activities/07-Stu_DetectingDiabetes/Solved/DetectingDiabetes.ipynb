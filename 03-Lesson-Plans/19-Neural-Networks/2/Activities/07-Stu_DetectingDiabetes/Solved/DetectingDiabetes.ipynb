version https://git-lfs.github.com/spec/v1
oid sha256:61d76d03d00be7d2297d83721ab9a1d4dfaf5b561a5972b270bf50006526b183
size 13307
