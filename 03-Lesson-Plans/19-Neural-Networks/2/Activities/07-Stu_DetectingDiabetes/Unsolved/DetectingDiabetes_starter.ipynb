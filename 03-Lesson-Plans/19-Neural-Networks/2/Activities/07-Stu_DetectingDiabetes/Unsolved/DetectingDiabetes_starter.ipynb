version https://git-lfs.github.com/spec/v1
oid sha256:60a31fd4b6c29c1a5db07e12db99dd421a097caa249906e5e5ea10702c193cb8
size 2510
